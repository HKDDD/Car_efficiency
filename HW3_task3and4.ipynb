{
 "cells": [
  {
   "cell_type": "code",
   "execution_count": 1,
   "metadata": {
    "collapsed": true
   },
   "outputs": [],
   "source": [
    "###Load Packages\n",
    "import pandas as pd\n",
    "import numpy as np\n",
    "from sklearn.linear_model import LinearRegression, Ridge, Lasso, ElasticNet, RidgeCV\n",
    "from sklearn.model_selection import train_test_split, cross_val_score, GridSearchCV\n",
    "from sklearn.preprocessing import StandardScaler\n",
    "from sklearn.pipeline import make_pipeline\n",
    "import pandas as pd\n",
    "from sklearn.preprocessing import LabelEncoder\n",
    "from sklearn.ensemble import RandomForestRegressor\n",
    "from sklearn.ensemble import RandomForestClassifier\n",
    "from sklearn.ensemble import GradientBoostingRegressor"
   ]
  },
  {
   "cell_type": "code",
   "execution_count": 25,
   "metadata": {
    "collapsed": true
   },
   "outputs": [],
   "source": [
    "###Define useful functions\n",
    "#transform xlsx to dataframe\n",
    "def xlsx_to_csv_pd(path):\n",
    "    data_train = pd.read_excel(path + '15.xlsx')\n",
    "    xls_16 = pd.read_excel(path + '16.xlsx')\n",
    "    xls_17 = pd.read_excel(path + '17.xlsx')\n",
    "    data_train = pd.concat([data_train,xls_16,xls_17])\n",
    "    data_test = pd.read_excel(path + '18.xlsx')\n",
    "    return data_train, data_test\n",
    "\n",
    "def x_y_split(df):\n",
    "    y = df.pop('Comb Unrd Adj FE - Conventional Fuel')\n",
    "    return df,y\n",
    "\n",
    "def choose_column(df):\n",
    "    count = df.shape[0] - df.count()\n",
    "    filtered =  count[count < len(df)*0.2]\n",
    "    index = list(filtered.index)\n",
    "    index = [col for col in index if col.find('EPA') == -1 and col.find('FE') == -1 and col.find('MPG') == -1 and col.find('CO2') == -1 and col.find('Smog') == -1 and col.find('Guzzler') == -1 and col.find('Release Date') == -1 and col.find('Mfr Name') == -1 and col.find('Verify Mfr Cd') == -1]\n",
    "    index = [col for col in index if col.find('Desc') == -1 or col.find('Calc Approach Desc') > -1 or col.find('Var Valve Timing Desc') > -1]    \n",
    "    return df[index], index\n",
    "\n",
    "#def choose_column_noDesc(df):\n",
    "#    count = df.shape[0] - df.count()\n",
    "#    filtered =  count[count < len(df)*0.2]\n",
    "#    index = list(filtered.index)\n",
    "#    index = [col for col in index if col.find('EPA') == -1 and col.find('FE') == -1 and col.find('MPG') == -1 and col.find('CO2') == -1 and col.find('Smog') == -1 and col.find('Guzzler') == -1 and col.find('Release Date') == -1 and col.find('Mfr Name') == -1 and col.find('Verify Mfr Cd') == -1]\n",
    "#    index = [col for col in index if col.find('Desc') == -1 or col.find('Calc Approach Desc') > -1 or col.find('Var Valve Timing Desc') > -1]\n",
    "#    return df[index], index\n",
    "\n",
    "#def fillna_mean(dfo,index,dfto):\n",
    "#    df = dfo.copy()\n",
    "#    dft = dfto.copy()\n",
    "#    for col in index:\n",
    "#        if isinstance(df[col][0],(int,float)):\n",
    "#            df.loc[:,col] = df[col].fillna(df.mean()[col].tolist()[0]).tolist()\n",
    "#            dft.loc[:,col] = dft[col].fillna(df.mean()[col].tolist()[0]).tolist()\n",
    "#        else:\n",
    "#            df.loc[:,col] = df[col].fillna(df.mode()[col].tolist()[0]).tolist()\n",
    "#            dft.loc[:,col] = dft[col].fillna(df.mode()[col].tolist()[0]).tolist()\n",
    "#    return df,dft\n",
    "\n",
    "def fillna_mean(dfo,index,dfto):\n",
    "    df = pd.DataFrame()\n",
    "    dft = pd.DataFrame()\n",
    "    cate = []\n",
    "    num = []\n",
    "    for col in index:\n",
    "        if dfo[col][0].dtype == 'int64' or dfo[col][0].dtype == 'float64':\n",
    "            df[col] = dfo[col].fillna(dfo.mean()[col])\n",
    "            dft[col] = dfto[col].fillna(dfo.mean()[col])\n",
    "            num.append(col)\n",
    "        else:\n",
    "            df[col] = dfo[col].fillna(dfo.mode()[col])\n",
    "            dft[col] = dfto[col].fillna(dfo.mode()[col])\n",
    "            cate.append(col)\n",
    "    return df,dft,cate,num\n",
    "\n",
    "\n",
    "def one_hot_encoding(train,test):\n",
    "    full = pd.concat([train, test]) \n",
    "    extended = pd.get_dummies(full)\n",
    "    boundry = len(train)\n",
    "    train = extended[:boundry]\n",
    "    test = extended[boundry:]\n",
    "    return train, test\n",
    "\n",
    "def rfimpute(df, full_df):\n",
    "    \"\"\"\n",
    "    rfimpute imputes missing values in df using random forest regression.\n",
    "    \n",
    "    Input:\n",
    "        df: a pandas data frame df with missing value, note that choosing\n",
    "            columns must happen before imputing. \n",
    "        full_df: a pandas data frame with missing values filled using mean, \n",
    "                median or mode.\n",
    "    Output: \n",
    "        a pandas data frame having the same dimension as df\n",
    "    \"\"\"\n",
    "    rf_reg = RandomForestRegressor(n_estimators=100)\n",
    "    rf_cla = RandomForestClassifier(n_estimators=100)\n",
    "    X_imputed = full_df.copy()\n",
    "    filtered_train = df.copy()\n",
    "    \n",
    "    for i in range(10):\n",
    "        #print(\"Now loop \"+str(i))\n",
    "        X_imputed_dummies = pd.get_dummies(X_imputed)\n",
    "        last = X_imputed_dummies.copy().as_matrix()\n",
    "        for feature in range(filtered_train.shape[1]):\n",
    "            feature_name = filtered_train.columns.values[feature]\n",
    "            #print(\"Performing on feature \"+feature_name)\n",
    "            \n",
    "            #inds_not_f are column numbers that do not belong to feature column in dummies df\n",
    "            inds_not_f = np.array([col for col in range(X_imputed_dummies.shape[1])\\\n",
    "              if (feature_name + \"_\") not in X_imputed_dummies.columns.values[col]])\n",
    "            if len(inds_not_f) == X_imputed_dummies.shape[1]: #means feature is numerical\n",
    "                  inds_not_f = np.array([col for col in range(X_imputed_dummies.shape[1])\\\n",
    "              if (feature_name) not in X_imputed_dummies.columns.values[col]])\n",
    "        \n",
    "            f_missing = filtered_train.isnull()[feature_name].values\n",
    "            if any(f_missing): \n",
    "            \n",
    "                #Convert df's to numpy matrix\n",
    "                filtered_train_colnames = filtered_train.columns.values\n",
    "                filtered_train_dtypes_dict = filtered_train.dtypes.to_dict()\n",
    "                filtered_train = filtered_train.as_matrix()\n",
    "                X_imputed_colnames = X_imputed.columns.values\n",
    "                X_imputed_dtypes_dict = X_imputed.dtypes.to_dict()\n",
    "                X_imputed = X_imputed.as_matrix()\n",
    "                X_imputed_dummies_colnames = X_imputed_dummies.columns.values\n",
    "                X_imputed_dummies = X_imputed_dummies.as_matrix()\n",
    "                \n",
    "                if feature_name in X_imputed_dummies_colnames: #numerical columns\n",
    "                    #print(feature_name + \" is numerical\")\n",
    "                    rf_reg.fit(X_imputed_dummies[~f_missing][:, inds_not_f], filtered_train[~f_missing, feature])\n",
    "                    X_imputed[f_missing, feature] = rf_reg.predict(\n",
    "                            X_imputed_dummies[f_missing][:, inds_not_f])\n",
    "                else: #for categorical a feature column\n",
    "                    #print(feature_name + \" is categorical\")\n",
    "                    LabEnc = LabelEncoder()\n",
    "                    y = LabEnc.fit_transform(filtered_train[~f_missing, feature])\n",
    "                    rf_cla.fit(X_imputed_dummies[~f_missing][:, inds_not_f], y)\n",
    "                    rf_cla_predicted_Enc = rf_cla.predict(X_imputed_dummies[f_missing][:, inds_not_f])\n",
    "                    rf_cla_predicted = LabEnc.inverse_transform(rf_cla_predicted_Enc)\n",
    "                    X_imputed[f_missing, feature] = rf_cla_predicted\n",
    "                #Convert numpy matrix back to df's\n",
    "                filtered_train = pd.DataFrame(data = filtered_train, columns = filtered_train_colnames)\n",
    "                filtered_train = filtered_train.astype(filtered_train_dtypes_dict)\n",
    "                X_imputed = pd.DataFrame(data = X_imputed, columns = X_imputed_colnames)\n",
    "                X_imputed = X_imputed.astype(X_imputed_dtypes_dict)\n",
    "                X_imputed_dummies = pd.get_dummies(X_imputed)\n",
    "\n",
    "            \n",
    "        now = pd.get_dummies(X_imputed).as_matrix()\n",
    "        if (np.linalg.norm(last - now)) < .5:\n",
    "            return X_imputed\n",
    "    return X_imputed"
   ]
  },
  {
   "cell_type": "code",
   "execution_count": 40,
   "metadata": {
    "collapsed": true
   },
   "outputs": [],
   "source": [
    "train, test = xlsx_to_csv_pd('/Users/duxuewei/Documents/sp2018/AML/My_Car_efficiency/')\n",
    "#/Users/haikundu/Desktop/4995AML/hw3/\n",
    "#/Users/duxuewei/Documents/sp2018/AML/My_Car_efficiency/\n",
    "train_x, train_y = x_y_split(train)\n",
    "test_x, test_y = x_y_split(test)\n",
    "filtered_train, column_name = choose_column(train_x)\n",
    "filtered_test = test[column_name]\n",
    "full_train,full_test, cat_cols, num_cols = fillna_mean(filtered_train,column_name,filtered_test)\n",
    "\n",
    "#fillna with random forest regression\n",
    "full_train = rfimpute(filtered_train, full_train)\n",
    "full_test = rfimpute(filtered_test, full_test)\n",
    "\n",
    "\n",
    "#one hot encoding\n",
    "ohe_train,ohe_test = one_hot_encoding(full_train, full_test)\n",
    "\n",
    "#Standard Scaler\n",
    "scaler = StandardScaler()\n",
    "scaler.fit(ohe_train)\n",
    "X_train_scaled = scaler.transform(ohe_train)\n",
    "X_test_scaled = scaler.transform(ohe_test)"
   ]
  },
  {
   "cell_type": "code",
   "execution_count": 41,
   "metadata": {
    "collapsed": false
   },
   "outputs": [
    {
     "name": "stdout",
     "output_type": "stream",
     "text": [
      "Best parameters for random forest regression model are {'n_estimators': 14, 'max_depth': 8}\n",
      "Best random forest training score using gridsearch is 0.967169599952\n"
     ]
    }
   ],
   "source": [
    "#Random Forest Regression Model\n",
    "rf_reg = RandomForestRegressor()\n",
    "\n",
    "param_grid = {\n",
    "                 'n_estimators': [5, 8, 11, 14],\n",
    "                 'max_depth': [2, 4, 6, 8]\n",
    "             }\n",
    "\n",
    "grid_rf_reg = GridSearchCV(rf_reg, param_grid, cv=10)\n",
    "grid_rf_reg.fit(X_train_scaled, train_y)\n",
    "print(\"Best parameters for random forest regression model are \"+str(grid_rf_reg.best_params_))\n",
    "print(\"Best random forest training score using gridsearch is \"+str(grid_rf_reg.best_score_))"
   ]
  },
  {
   "cell_type": "code",
   "execution_count": 5,
   "metadata": {
    "collapsed": false
   },
   "outputs": [
    {
     "name": "stdout",
     "output_type": "stream",
     "text": [
      "Best parameters for gradient boosting model are {'n_estimators': 70, 'max_depth': 21, 'min_samples_split': 250, 'max_features': 32}\n",
      "Best gradient boosting training score using gridsearch is 0.959684977164\n"
     ]
    }
   ],
   "source": [
    "#Gradient Boosting\n",
    "gbm_reg = GradientBoostingRegressor()\n",
    "\n",
    "param_grid = {\n",
    "                 'n_estimators':range(40,71,10), \n",
    "                 'max_depth':range(15,25,3), \n",
    "                 'min_samples_split':range(250,1250,300), \n",
    "                 'max_features':range(20,33,4) \n",
    "             }\n",
    "\n",
    "grid_gbm_reg = GridSearchCV(gbm_reg, param_grid, cv=10)\n",
    "grid_gbm_reg.fit(X_train_scaled, train_y)\n",
    "print(\"Best parameters for gradient boosting model are \"+str(grid_gbm_reg.best_params_))\n",
    "print(\"Best gradient boosting training score using gridsearch is \"+str(grid_gbm_reg.best_score_))"
   ]
  },
  {
   "cell_type": "code",
   "execution_count": 6,
   "metadata": {
    "collapsed": false
   },
   "outputs": [
    {
     "data": {
      "image/png": "[encoded data removed]",
      "text/plain": [
       "<matplotlib.figure.Figure at 0x106152ef0>"
      ]
     },
     "metadata": {},
     "output_type": "display_data"
    }
   ],
   "source": [
    "#How does y look like\n",
    "from matplotlib import pyplot as plt\n",
    "from scipy.stats import lognorm\n",
    "\n",
    "plt.hist(train_y.values, bins=22, color = \"#5cb29a\")\n",
    "scatter,loc,mean = lognorm.fit(train_y.values,\n",
    "                               scale=train_y.mean(),\n",
    "                               loc=0)\n",
    "pdf_fitted = lognorm.pdf(np.arange(0,60,.5),scatter,loc,mean)\n",
    "plt.plot(np.arange(0,60,.5),7500*pdf_fitted,'r', color = \"#161491\")\n",
    "plt.show()"
   ]
  },
  {
   "cell_type": "code",
   "execution_count": 26,
   "metadata": {
    "collapsed": false
   },
   "outputs": [],
   "source": [
    "train, test = xlsx_to_csv_pd('/Users/duxuewei/Documents/sp2018/AML/My_Car_efficiency/')\n",
    "#/Users/haikundu/Desktop/4995AML/hw3/\n",
    "#/Users/duxuewei/Documents/sp2018/AML/My_Car_efficiency/\n",
    "train_x, train_y = x_y_split(train)\n",
    "train_y = np.log(train_y)\n",
    "test_x, test_y = x_y_split(test)\n",
    "test_y = np.log(test_y)\n",
    "filtered_train, column_name = choose_column(train_x)\n",
    "filtered_test = test[column_name]\n",
    "full_train,full_test, cat_cols, num_cols = fillna_mean(filtered_train,column_name,filtered_test)\n",
    "\n",
    "#fillna with random forest regression\n",
    "full_train = rfimpute(filtered_train, full_train)\n",
    "full_test = rfimpute(filtered_test, full_test)\n",
    "\n",
    "\n",
    "#one hot encoding\n",
    "ohe_train,ohe_test = one_hot_encoding(full_train, full_test)\n",
    "\n",
    "#Standard Scaler\n",
    "scaler = StandardScaler()\n",
    "scaler.fit(ohe_train)\n",
    "X_train_scaled = scaler.transform(ohe_train)\n",
    "X_test_scaled = scaler.transform(ohe_test)"
   ]
  },
  {
   "cell_type": "code",
   "execution_count": 35,
   "metadata": {
    "collapsed": false
   },
   "outputs": [
    {
     "name": "stdout",
     "output_type": "stream",
     "text": [
      "Best parameters for random forest regression model are {'n_estimators': 8, 'max_depth': 8}\n",
      "Best random forest training score using gridsearch is 0.970156555041\n"
     ]
    }
   ],
   "source": [
    "#Random Forest Regression Model\n",
    "rf_reg = RandomForestRegressor()\n",
    "\n",
    "param_grid = {\n",
    "                 'n_estimators': [5, 8, 11, 14],\n",
    "                 'max_depth': [2, 4, 6, 8]\n",
    "             }\n",
    "\n",
    "grid_rf_reg = GridSearchCV(rf_reg, param_grid, cv=10)\n",
    "grid_rf_reg.fit(X_train_scaled, train_y)\n",
    "print(\"Best parameters for random forest regression model are \"+str(grid_rf_reg.best_params_))\n",
    "print(\"Best random forest training score using gridsearch is \"+str(grid_rf_reg.best_score_))"
   ]
  },
  {
   "cell_type": "code",
   "execution_count": null,
   "metadata": {
    "collapsed": false
   },
   "outputs": [
    {
     "name": "stdout",
     "output_type": "stream",
     "text": [
      "Best parameters for gradient boosting model are {'n_estimators': 70, 'max_depth': 21, 'min_samples_split': 250, 'max_features': 32}\n",
      "Best gradient boosting training score using gridsearch is 0.965020113475\n"
     ]
    }
   ],
   "source": [
    "#Gradient Boosting\n",
    "gbm_reg = GradientBoostingRegressor()\n",
    "\n",
    "param_grid = {\n",
    "                 'n_estimators':range(40,71,10), \n",
    "                 'max_depth':range(15,25,3), \n",
    "                 'min_samples_split':range(250,1250,300), \n",
    "                 'max_features':range(20,33,4) \n",
    "             }\n",
    "\n",
    "grid_gbm_reg = GridSearchCV(gbm_reg, param_grid, cv=10)\n",
    "grid_gbm_reg.fit(X_train_scaled, train_y)\n",
    "print(\"Best parameters for gradient boosting model are \"+str(grid_gbm_reg.best_params_))\n",
    "print(\"Best gradient boosting training score using gridsearch is \"+str(grid_gbm_reg.best_score_))"
   ]
  },
  {
   "cell_type": "code",
   "execution_count": 36,
   "metadata": {
    "collapsed": false
   },
   "outputs": [
    {
     "name": "stdout",
     "output_type": "stream",
     "text": [
      "Model input Data has 1662 columns\n",
      "Important columns are: ['Eng Displ' 'Annual Fuel1 Cost - Conventional Fuel'\n",
      " 'GHG Rating (1-10 rating on Label)_5'\n",
      " 'GHG Rating (1-10 rating on Label)_4'\n",
      " 'GHG Rating (1-10 rating on Label)_6'\n",
      " 'GHG Rating (1-10 rating on Label)_3'\n",
      " 'GHG Rating (1-10 rating on Label)_1' '# Cyl'\n",
      " 'GHG Rating (1-10 rating on Label)_7'\n",
      " 'GHG Rating (1-10 rating on Label)_2'\n",
      " 'GHG Rating (1-10 rating on Label)_10'\n",
      " 'Stop/Start System (Engine Management System) Code_Y' 'Model Year'\n",
      " 'GHG Rating (1-10 rating on Label)_8'\n",
      " 'GHG Rating (1-10 rating on Label)_9' 'Fuel Usage  - Conventional Fuel_G'\n",
      " 'Fuel Usage  - Conventional Fuel_DU' 'Carline Class'\n",
      " 'Index (Model Type Index)' 'Var Valve Lift?_Y'\n",
      " 'Var Valve Timing Desc_Variable Valve Timing System with inlet'\n",
      " 'Fuel Metering Sys Cd_CRDI' 'Var Valve Timing?_Y' 'Var Valve Lift?_N'\n",
      " 'Unique Label?_N' 'Max Ethanol % - Gasoline'\n",
      " 'Fuel Usage  - Conventional Fuel_GP' '# Gears'\n",
      " 'Fuel Usage  - Conventional Fuel_GPR'\n",
      " 'Var Valve Timing Desc_variable valve timing at inlet and outlet valves']\n"
     ]
    }
   ],
   "source": [
    "##Best model\n",
    "rf_best = grid_rf_reg.best_estimator_\n",
    "rf_feature_importances = rf_best.feature_importances_\n",
    "print(\"Model input Data has \" + str(len(rf_feature_importances)) + \" columns\")\n",
    "#ohe_train, ohe_test\n",
    "rf_feature_importances_index = rf_feature_importances.argsort()[-30:][::-1]\n",
    "print(\"Important columns are: \" + str(ohe_train.columns.values[rf_feature_importances_index]))"
   ]
  },
  {
   "cell_type": "code",
   "execution_count": 37,
   "metadata": {
    "collapsed": false
   },
   "outputs": [
    {
     "name": "stdout",
     "output_type": "stream",
     "text": [
      "Best random forest test score is 0.946690694573\n"
     ]
    }
   ],
   "source": [
    "##Test set performance\n",
    "rf_test_score = rf_best.score(X_test_scaled, test_y)\n",
    "print(\"Best random forest test score is \"+ str(rf_test_score))"
   ]
  },
  {
   "cell_type": "code",
   "execution_count": 39,
   "metadata": {
    "collapsed": false
   },
   "outputs": [
    {
     "name": "stdout",
     "output_type": "stream",
     "text": [
      "Random Forest w/ log-transformed y dropping irrelevant columns has test set score 0.955005971143\n"
     ]
    }
   ],
   "source": [
    "##Dropping irrelevant columns and run random forest w/ transformed y again\n",
    "ohe_train = ohe_train[rf_feature_importances_index]\n",
    "ohe_test = ohe_test[rf_feature_importances_index]\n",
    "#Standard Scaler\n",
    "scaler = StandardScaler()\n",
    "scaler.fit(ohe_train)\n",
    "X_train_scaled = scaler.transform(ohe_train)\n",
    "X_test_scaled = scaler.transform(ohe_test)\n",
    "\n",
    "rf_reg_best = RandomForestRegressor(n_estimators = 8, max_depth = 8)\n",
    "rf_reg_best.fit(X_train_scaled, train_y)\n",
    "\n",
    "print(\"Random Forest w/ log-transformed y dropping irrelevant columns has test set score \" + str(rf_reg_best.score(X_test_scaled, test_y)))"
   ]
  },
  {
   "cell_type": "code",
   "execution_count": null,
   "metadata": {
    "collapsed": true
   },
   "outputs": [],
   "source": []
  }
 ],
 "metadata": {
  "kernelspec": {
   "display_name": "Python 3",
   "language": "python",
   "name": "python3"
  },
  "language_info": {
   "codemirror_mode": {
    "name": "ipython",
    "version": 3
   },
   "file_extension": ".py",
   "mimetype": "text/x-python",
   "name": "python",
   "nbconvert_exporter": "python",
   "pygments_lexer": "ipython3",
   "version": "3.4.5"
  }
 },
 "nbformat": 4,
 "nbformat_minor": 2
}
