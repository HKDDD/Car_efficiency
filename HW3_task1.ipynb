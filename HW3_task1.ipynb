{
 "cells": [
  {
   "cell_type": "markdown",
   "metadata": {},
   "source": [
    "# Car efficiency"
   ]
  },
  {
   "cell_type": "markdown",
   "metadata": {},
   "source": [
    "# Problem 1"
   ]
  },
  {
   "cell_type": "code",
   "execution_count": 1,
   "metadata": {},
   "outputs": [],
   "source": [
    "import pandas as pd\n",
    "import numpy as np\n",
    "from sklearn.linear_model import LinearRegression, Ridge, Lasso, ElasticNet, RidgeCV\n",
    "from sklearn.model_selection import train_test_split, cross_val_score, GridSearchCV\n",
    "from sklearn.preprocessing import StandardScaler\n",
    "from sklearn.pipeline import make_pipeline\n",
    "import pandas as pd\n",
    "from sklearn.preprocessing import LabelEncoder, PolynomialFeatures\n",
    "from sklearn.ensemble import RandomForestRegressor\n",
    "from sklearn.ensemble import RandomForestClassifier\n",
    "\n",
    "def xlsx_to_csv_pd(path):\n",
    "    data_train = pd.read_excel(path + '15.xlsx')\n",
    "    xls_16 = pd.read_excel(path + '16.xlsx')\n",
    "    xls_17 = pd.read_excel(path + '17.xlsx')\n",
    "    data_train = pd.concat([data_train,xls_16,xls_17])\n",
    "    data_test = pd.read_excel(path + '18.xlsx')\n",
    "    return data_train, data_test\n",
    "\n",
    "def x_y_split(df):\n",
    "    y = df.pop('Comb Unrd Adj FE - Conventional Fuel')\n",
    "    return df,y\n",
    "\n",
    "def choose_column(df):\n",
    "    count = df.shape[0] - df.count()\n",
    "    filtered =  count[count < len(df)*1]\n",
    "    index = list(filtered.index)\n",
    "    index = [col for col in index if col.find('EPA') == -1 and col.find('FE') == -1 and col.find('MPG') == -1 and col.find('CO2') == -1 and col.find('Smog') == -1 and col.find('Guzzler') == -1 and col.find('Release Date') == -1 and col.find('Mfr Name') == -1 and col.find('Verify Mfr Cd') == -1]\n",
    "    return df[index], index\n",
    "\n",
    "#load data\n",
    "train, test = xlsx_to_csv_pd('/Users/haikundu/Desktop/4995AML/hw3/')\n",
    "\n",
    "#data target split\n",
    "train_x, train_y = x_y_split(train)\n",
    "test_x, test_y = x_y_split(test)\n",
    "\n",
    "#choose column\n",
    "filtered_train, column_name = choose_column(train_x)\n",
    "filtered_test = test[column_name]"
   ]
  },
  {
   "cell_type": "markdown",
   "metadata": {},
   "source": [
    "### Preprocessing\n",
    "After loading data, in the data cleaning part, first we fill up missing value by mean for numerical variable and mode for categorical variable. After that we use one hot encoding method to transform all categorical data into numerical data. Finally, we applied standard scaling method on all traing and test set."
   ]
  },
  {
   "cell_type": "code",
   "execution_count": 2,
   "metadata": {},
   "outputs": [],
   "source": [
    "def fillna_mean(dfo,index,dfto):\n",
    "    df = pd.DataFrame()\n",
    "    dft = pd.DataFrame()\n",
    "    for col in index:\n",
    "        if dfo[col][0].dtype == 'int64' or dfo[col][0].dtype == 'float64':\n",
    "            df[col] = dfo[col].fillna(dfo.mean()[col])\n",
    "            dft[col] = dfto[col].fillna(dfo.mean()[col])\n",
    "        else:\n",
    "            df[col] = dfo[col].fillna(dfo.mode()[col].tolist()[0]).tolist()\n",
    "            dft[col] = dfto[col].fillna(dfo.mode()[col].tolist()[0]).tolist()\n",
    "    return df,dft\n",
    "\n",
    "def one_hot_encoding(train,test):\n",
    "    full = pd.concat([train, test]) \n",
    "    extended = pd.get_dummies(full)\n",
    "    boundry = len(train)\n",
    "    train = extended[:boundry]\n",
    "    test = extended[boundry:]\n",
    "    return train, test\n",
    "\n",
    "#fill up missing value\n",
    "full_train,full_test = fillna_mean(filtered_train,column_name,filtered_test)\n",
    "\n",
    "#transform categorical data into numerical data\n",
    "ohe_train,ohe_test = one_hot_encoding(full_train, full_test)\n",
    "\n",
    "#Standard Scaler\n",
    "scaler = StandardScaler()\n",
    "scaler.fit(ohe_train)\n",
    "X_train_scaled = scaler.transform(ohe_train)\n",
    "X_test_scaled = scaler.transform(ohe_test)"
   ]
  },
  {
   "cell_type": "markdown",
   "metadata": {},
   "source": [
    "### Fitting model\n",
    "Since this problem is a regression problem, in this section we will try three linear regression algorithm to predict the Conventional Fuel."
   ]
  },
  {
   "cell_type": "code",
   "execution_count": 3,
   "metadata": {},
   "outputs": [
    {
     "name": "stdout",
     "output_type": "stream",
     "text": [
      "Ridge validation score: 0.9597902238073752\n"
     ]
    }
   ],
   "source": [
    "#fit ridge regression\n",
    "print(\"Ridge validation score:\",np.mean(cross_val_score(Ridge(), X_train_scaled, train_y, cv= 10)))"
   ]
  },
  {
   "cell_type": "code",
   "execution_count": 4,
   "metadata": {},
   "outputs": [
    {
     "name": "stdout",
     "output_type": "stream",
     "text": [
      "Lasso validation score: 0.6880833115008871\n"
     ]
    }
   ],
   "source": [
    "#fit lasso regression\n",
    "print(\"Lasso validation score:\",np.mean(cross_val_score(Lasso(), X_train_scaled, train_y, cv= 10)))"
   ]
  },
  {
   "cell_type": "code",
   "execution_count": 5,
   "metadata": {},
   "outputs": [
    {
     "name": "stdout",
     "output_type": "stream",
     "text": [
      "ElasticNet validation score: 0.7909909848607104\n"
     ]
    }
   ],
   "source": [
    "#fit Elastic Net regression\n",
    "print(\"ElasticNet validation score:\",np.mean(cross_val_score(ElasticNet(), X_train_scaled, train_y, cv= 10)))"
   ]
  },
  {
   "cell_type": "markdown",
   "metadata": {},
   "source": [
    "Based on the validation score for those three models, we can find that Ridge regerssion performs best in three models.\n",
    "Nest, we will use grid search for the best parameter and exam it performance on test set."
   ]
  },
  {
   "cell_type": "code",
   "execution_count": 6,
   "metadata": {},
   "outputs": [
    {
     "name": "stdout",
     "output_type": "stream",
     "text": [
      "best mean cross-validation score: 0.966\n",
      "best parameters: {'alpha': 12.742749857031322}\n",
      "test-set score: 0.954\n"
     ]
    }
   ],
   "source": [
    "# grid search for best parameter and exam the performance of ridge regression model on test set\n",
    "param_grid_ridge = {'alpha': np.logspace(-3, 3, 20)}\n",
    "grid_ridge = GridSearchCV(Ridge(),param_grid=param_grid_ridge,cv=10,\n",
    "                          return_train_score=True)\n",
    "grid_ridge.fit(X_train_scaled, train_y)\n",
    "print(\"best mean cross-validation score: {:.3f}\".format(grid_ridge.best_score_))\n",
    "print(\"best parameters: {}\".format(grid_ridge.best_params_))\n",
    "print(\"test-set score: {:.3f}\".format(grid_ridge.score(X_test_scaled, test_y)))"
   ]
  }
 ],
 "metadata": {
  "kernelspec": {
   "display_name": "Python 3",
   "language": "python",
   "name": "python3"
  },
  "language_info": {
   "codemirror_mode": {
    "name": "ipython",
    "version": 3
   },
   "file_extension": ".py",
   "mimetype": "text/x-python",
   "name": "python",
   "nbconvert_exporter": "python",
   "pygments_lexer": "ipython3",
   "version": "3.6.4"
  }
 },
 "nbformat": 4,
 "nbformat_minor": 2
}
